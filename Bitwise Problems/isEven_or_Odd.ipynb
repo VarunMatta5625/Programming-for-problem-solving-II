{
 "cells": [
  {
   "cell_type": "code",
   "execution_count": 7,
   "metadata": {},
   "outputs": [
    {
     "name": "stdout",
     "output_type": "stream",
     "text": [
      "the truth value for the 12 being odd is 0\n"
     ]
    }
   ],
   "source": [
    "n=12\n",
    "\n",
    "def isOdd():\n",
    "    num = int(n)\n",
    "    r = n & 1\n",
    "    return r\n",
    "   \n",
    "print(f'the truth value for the {n} being odd is {isOdd()}')"
   ]
  }
 ],
 "metadata": {
  "kernelspec": {
   "display_name": "Python 3",
   "language": "python",
   "name": "python3"
  },
  "language_info": {
   "codemirror_mode": {
    "name": "ipython",
    "version": 3
   },
   "file_extension": ".py",
   "mimetype": "text/x-python",
   "name": "python",
   "nbconvert_exporter": "python",
   "pygments_lexer": "ipython3",
   "version": "3.12.1"
  }
 },
 "nbformat": 4,
 "nbformat_minor": 2
}

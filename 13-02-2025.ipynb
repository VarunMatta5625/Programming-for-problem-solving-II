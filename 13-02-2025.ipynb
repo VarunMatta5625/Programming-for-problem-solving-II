{
 "cells": [
  {
   "cell_type": "markdown",
   "metadata": {},
   "source": [
    "# Lists\n",
    "\n",
    "Lists are comprehensible ---> one liners\n",
    "Lists are redundant , can have duplicate elements\n",
    "\n",
    "`index()` can be used to find the index of a particular element. It is positional , take a value to search for, and can be restricted for a range if required.\n",
    "if duplicate elements are found, it returns the index of the first one\n",
    "\n",
    "`append()` adds one object to the end of the list, which has to be passed along; \n",
    "it is an in-place method, returns no value back \n",
    "\n",
    "using append, you can append multiple values as a collection using another or the same collection type, say lists, tuples etcc\n",
    "\n",
    "\n",
    "\n",
    "`extend()`  ,it takes iterables only and is positional, can be used to add multiples objects separately instead of being added as another collection. \n",
    "i.e., it can add multiple values at the same, and it can do it so, separately.\n",
    "\n",
    "\n",
    "`insert()` , can insert or add an iterable or object before a provided index, at the starting of a list or even in the middle somewhere, while shifting everything else accordingly.\n",
    "it takes `index` value as a parameter first and then the `object` or `iterable`\n",
    "Note: It inserts iterables as iterables and not separate objects\n",
    "\n",
    "`pop()` removes one element from the tail-end by default, returns you the object it removes, in-place.\n",
    "an `index` value has to be be specified for it. \n",
    "\n",
    "\n",
    "`remove()` removes an object on basis of the value provided. and if redundant elements , it removes the first encountered element\n",
    "\n",
    "\n",
    "`count()`, can be used count the occurrences of an object, takes value and returns its frequency\n",
    "\n",
    "`sort()` __It is an in-place operation.__ can sort elements / objects in an order , take 2 parameters, `key`, `reverse` a boolean value. It, by default sorts in an ascending order, can be done oppositely using sending `reverse = True`.\n",
    "now `key` can be used to sort using a specific criteria, like `len` or `type`.\n",
    "and sorted also consumes less memory than `sorted`, though they both have same time complexity \n",
    "\n",
    "\n",
    "`sorted()` this is a __builtin function__ which is not an in-place operation, so it returns the sorted data instead of saving it to itself.\n",
    "Also this can be used on a string unlike `sort`, and sorted also consumes more memory than `sort`, though they both have same time complexity.\n",
    "now `key` can be used to sort using a specific criteria, like `len` or `type`. \n",
    "\n",
    "`clear()` can be used to clear the entire list\n",
    "\n",
    "`del()` can be used to delete an object from memory, it is a __builtin function__\n",
    "\n"
   ]
  },
  {
   "cell_type": "code",
   "execution_count": 26,
   "metadata": {},
   "outputs": [],
   "source": [
    "list  = []"
   ]
  },
  {
   "cell_type": "code",
   "execution_count": 28,
   "metadata": {},
   "outputs": [],
   "source": [
    "list = [6,4,2,1]\n",
    "\n",
    "list = sorted(list)"
   ]
  },
  {
   "cell_type": "code",
   "execution_count": 29,
   "metadata": {},
   "outputs": [
    {
     "name": "stdout",
     "output_type": "stream",
     "text": [
      "[1, 2, 4, 6]\n"
     ]
    }
   ],
   "source": [
    "print(list)"
   ]
  },
  {
   "cell_type": "markdown",
   "metadata": {},
   "source": [
    "---\n",
    "### foot notes\n",
    "* what is in-place?\n",
    "  - if it is mutable , it can perform in-place operations\n",
    "* silcing multi - dim collections\n",
    "* how to extract index of sub iterable elements in a collection\n",
    "* what is timsort"
   ]
  },
  {
   "cell_type": "markdown",
   "metadata": {},
   "source": []
  }
 ],
 "metadata": {
  "kernelspec": {
   "display_name": "Python 3",
   "language": "python",
   "name": "python3"
  },
  "language_info": {
   "codemirror_mode": {
    "name": "ipython",
    "version": 3
   },
   "file_extension": ".py",
   "mimetype": "text/x-python",
   "name": "python",
   "nbconvert_exporter": "python",
   "pygments_lexer": "ipython3",
   "version": "3.12.1"
  }
 },
 "nbformat": 4,
 "nbformat_minor": 2
}

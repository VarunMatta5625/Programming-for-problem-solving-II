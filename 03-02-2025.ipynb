{
 "cells": [
  {
   "cell_type": "markdown",
   "metadata": {},
   "source": [
    "# Key Points\n",
    "\n",
    "### ord()\n",
    "it is builtin function returns the unicode of a characters thats passed to it.\n"
   ]
  },
  {
   "cell_type": "code",
   "execution_count": 1,
   "metadata": {},
   "outputs": [],
   "source": [
    "def test_vow(ch):\n",
    "    vow = \"aeiouAEIOU\"\n",
    "    if ch.isalpha():\n",
    "        if ch in vow:\n",
    "            return \"Vowel\"\n",
    "        else:\n",
    "            return \"cons\"\n",
    "    else:\n",
    "        return \"not alpha\""
   ]
  },
  {
   "cell_type": "code",
   "execution_count": 4,
   "metadata": {},
   "outputs": [
    {
     "data": {
      "text/plain": [
       "'Vowel'"
      ]
     },
     "execution_count": 4,
     "metadata": {},
     "output_type": "execute_result"
    }
   ],
   "source": [
    "test_vow(\"ae\")"
   ]
  },
  {
   "cell_type": "code",
   "execution_count": 7,
   "metadata": {},
   "outputs": [],
   "source": [
    "# All possible permutations of a given string\n",
    "def str_perm(string):\n",
    "    for i in range(len(string)):\n",
    "        print(string[0:i+1])\n"
   ]
  },
  {
   "cell_type": "code",
   "execution_count": 8,
   "metadata": {},
   "outputs": [
    {
     "name": "stdout",
     "output_type": "stream",
     "text": [
      "H\n",
      "He\n",
      "Hel\n",
      "Hell\n",
      "Hello\n"
     ]
    }
   ],
   "source": [
    "str_perm(\"Hello\")"
   ]
  },
  {
   "cell_type": "code",
   "execution_count": 10,
   "metadata": {},
   "outputs": [],
   "source": [
    "#F(N)= (1) +(2*3) + (4*5*6) … N."
   ]
  },
  {
   "cell_type": "code",
   "execution_count": 12,
   "metadata": {},
   "outputs": [],
   "source": [
    "def is_vowel(ch):\n",
    "    vow = \"AEIOUaeiou\"\n",
    "    if ch in vow:\n",
    "        return \"Vowel\"\n",
    "    else:\n",
    "        return \"Consonant\""
   ]
  },
  {
   "cell_type": "code",
   "execution_count": 14,
   "metadata": {},
   "outputs": [
    {
     "data": {
      "text/plain": [
       "'Vowel'"
      ]
     },
     "execution_count": 14,
     "metadata": {},
     "output_type": "execute_result"
    }
   ],
   "source": [
    "is_vowel(\"a\")"
   ]
  },
  {
   "cell_type": "code",
   "execution_count": 20,
   "metadata": {},
   "outputs": [],
   "source": [
    "def is_alpha(ch):\n",
    "    uni = ord(ch)\n",
    "    if uni>= 97 or uni<=122 or uni>=65 or uni<=90:\n",
    "        return \"alphabet\"\n",
    "    else:\n",
    "        return \"Not alphabet\"\n"
   ]
  },
  {
   "cell_type": "code",
   "execution_count": 25,
   "metadata": {},
   "outputs": [
    {
     "data": {
      "text/plain": [
       "'alphabet'"
      ]
     },
     "execution_count": 25,
     "metadata": {},
     "output_type": "execute_result"
    }
   ],
   "source": [
    "is_alpha(\"1\")"
   ]
  },
  {
   "cell_type": "code",
   "execution_count": 24,
   "metadata": {},
   "outputs": [
    {
     "data": {
      "text/plain": [
       "49"
      ]
     },
     "execution_count": 24,
     "metadata": {},
     "output_type": "execute_result"
    }
   ],
   "source": [
    "ord(\"1\")"
   ]
  },
  {
   "cell_type": "code",
   "execution_count": 27,
   "metadata": {},
   "outputs": [],
   "source": [
    "def string_remover(string):\n",
    "    for i in string:\n",
    "        vowel = \"AEIOUaeiou\"\n",
    "        if i in vowel:\n",
    "            string.replace(i,\"\")\n",
    "    print(string)\n",
    "            \n",
    "\n"
   ]
  },
  {
   "cell_type": "code",
   "execution_count": 28,
   "metadata": {},
   "outputs": [
    {
     "name": "stdout",
     "output_type": "stream",
     "text": [
      "VARUN\n"
     ]
    }
   ],
   "source": [
    "string_remover(\"VARUN\")"
   ]
  },
  {
   "cell_type": "code",
   "execution_count": 31,
   "metadata": {},
   "outputs": [
    {
     "name": "stdout",
     "output_type": "stream",
     "text": [
      "Help on method_descriptor:\n",
      "\n",
      "capitalize(self, /)\n",
      "    Return a capitalized version of the string.\n",
      "\n",
      "    More specifically, make the first character have upper case and the rest lower\n",
      "    case.\n",
      "\n"
     ]
    }
   ],
   "source": [
    "help(str.capitalize)"
   ]
  },
  {
   "cell_type": "code",
   "execution_count": 35,
   "metadata": {},
   "outputs": [
    {
     "data": {
      "text/plain": [
       "'Hello'"
      ]
     },
     "execution_count": 35,
     "metadata": {},
     "output_type": "execute_result"
    }
   ],
   "source": [
    "string = \"hello\"\n",
    "string.capitalize()"
   ]
  },
  {
   "cell_type": "code",
   "execution_count": 46,
   "metadata": {},
   "outputs": [],
   "source": [
    "def ch_freq(string):\n",
    "    visited = \"\"\n",
    "    for i in string:\n",
    "        if i not in visited:\n",
    "            c = 0\n",
    "            for j in string:\n",
    "                if (i == j):\n",
    "                    c += 1\n",
    "                visited += i\n",
    "            print(f\"{i} is repeated {c} times\")     \n",
    "              "
   ]
  },
  {
   "cell_type": "code",
   "execution_count": 49,
   "metadata": {},
   "outputs": [
    {
     "name": "stdout",
     "output_type": "stream",
     "text": [
      "P is repeated 1 times\n",
      "a is repeated 4 times\n",
      "v is repeated 1 times\n",
      "n is repeated 2 times\n",
      "  is repeated 2 times\n",
      "T is repeated 2 times\n",
      "y is repeated 1 times\n",
      "u is repeated 2 times\n",
      "m is repeated 1 times\n"
     ]
    }
   ],
   "source": [
    "ch_freq(\"Pavan Tanay Tumu\")"
   ]
  },
  {
   "cell_type": "code",
   "execution_count": 12,
   "metadata": {},
   "outputs": [
    {
     "name": "stdout",
     "output_type": "stream",
     "text": [
      "a = 5\n",
      "b = 1\n",
      "g = 2\n",
      "h = 1\n",
      "j = 1\n",
      "i = 1\n"
     ]
    }
   ],
   "source": [
    "def freq(string):\n",
    "    visited = \"\"\n",
    "    for i in string:\n",
    "        if i not in visited:\n",
    "            c=0\n",
    "            for j in string:\n",
    "                if i == j:\n",
    "                    c+=1\n",
    "                    visited += j        \n",
    "            print(f\"{i} = {c}\")\n",
    "\n",
    "    \n",
    "        \n",
    "freq(\"aaaaabgghji\")"
   ]
  },
  {
   "cell_type": "code",
   "execution_count": null,
   "metadata": {},
   "outputs": [],
   "source": []
  }
 ],
 "metadata": {
  "kernelspec": {
   "display_name": "Python 3",
   "language": "python",
   "name": "python3"
  },
  "language_info": {
   "codemirror_mode": {
    "name": "ipython",
    "version": 3
   },
   "file_extension": ".py",
   "mimetype": "text/x-python",
   "name": "python",
   "nbconvert_exporter": "python",
   "pygments_lexer": "ipython3",
   "version": "3.12.1"
  }
 },
 "nbformat": 4,
 "nbformat_minor": 2
}

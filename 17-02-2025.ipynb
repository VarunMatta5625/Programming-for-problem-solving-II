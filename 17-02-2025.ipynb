{
 "cells": [
  {
   "cell_type": "code",
   "execution_count": 4,
   "metadata": {},
   "outputs": [
    {
     "name": "stdout",
     "output_type": "stream",
     "text": [
      "3\n"
     ]
    }
   ],
   "source": [
    "list = [9,3,5,7,1]\n",
    "\n",
    "def second_min_search(list):\n",
    "    sec_min = list[0]\n",
    "    minimum = min(list)\n",
    "    for i in range(len(list) - 1):\n",
    "        \n",
    "        \n",
    "        if (sec_min > list[i] and sec_min != minimum):\n",
    "            sec_min = list[i]\n",
    "    return sec_min\n",
    "\n",
    "print(second_min_search(list))"
   ]
  },
  {
   "cell_type": "code",
   "execution_count": 10,
   "metadata": {},
   "outputs": [
    {
     "name": "stdout",
     "output_type": "stream",
     "text": [
      "3\n"
     ]
    }
   ],
   "source": [
    "list = [9,3,5,7,1]\n",
    "\n",
    "def second_min_search_1(list):\n",
    "    mini = min(list)\n",
    "    list.remove(mini)\n",
    "    mini = list[0]\n",
    "    for i in range (len(list)- 1):\n",
    "        \n",
    "        if(mini>list[i]):\n",
    "            mini = list[i]\n",
    "    return mini\n",
    "\n",
    "print(second_min_search_1(list))"
   ]
  },
  {
   "cell_type": "code",
   "execution_count": null,
   "metadata": {},
   "outputs": [],
   "source": []
  }
 ],
 "metadata": {
  "kernelspec": {
   "display_name": "Python 3",
   "language": "python",
   "name": "python3"
  },
  "language_info": {
   "codemirror_mode": {
    "name": "ipython",
    "version": 3
   },
   "file_extension": ".py",
   "mimetype": "text/x-python",
   "name": "python",
   "nbconvert_exporter": "python",
   "pygments_lexer": "ipython3",
   "version": "3.12.1"
  }
 },
 "nbformat": 4,
 "nbformat_minor": 2
}

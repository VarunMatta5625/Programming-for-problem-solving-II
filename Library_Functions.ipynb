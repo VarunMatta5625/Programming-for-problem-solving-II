{
 "cells": [
  {
   "cell_type": "markdown",
   "metadata": {},
   "source": [
    "# Table of Contents\n",
    "\n",
    "1) [append()](#append)\n",
    "2) [dir()](#dir)\n",
    "3) [id()](#id)\n",
    "4) [len()](#len)\n",
    "5) [range()](#range)\n",
    "6) [hash()](#hash)\n"
   ]
  },
  {
   "cell_type": "markdown",
   "metadata": {},
   "source": [
    "## Append()\n",
    "\n",
    "`append()`\n",
    "\n",
    "this function can be used to insert elements into a list"
   ]
  },
  {
   "cell_type": "code",
   "execution_count": 12,
   "metadata": {},
   "outputs": [
    {
     "name": "stdout",
     "output_type": "stream",
     "text": [
      "[1, 2, 3, 4]\n"
     ]
    }
   ],
   "source": [
    "list = [1,2,3,4]\n",
    "print(list)"
   ]
  },
  {
   "cell_type": "code",
   "execution_count": 13,
   "metadata": {},
   "outputs": [
    {
     "name": "stdout",
     "output_type": "stream",
     "text": [
      "[1, 2, 3, 4, 5]\n"
     ]
    }
   ],
   "source": [
    "list.append(5)\n",
    "print(list)"
   ]
  },
  {
   "cell_type": "markdown",
   "metadata": {},
   "source": [
    "append works by using the keyword `append` prefix to the name of list and a dot operator `.`\n",
    "\n",
    "syntax - `append`.<list_name>"
   ]
  },
  {
   "cell_type": "markdown",
   "metadata": {},
   "source": [
    "## dir()\n",
    "\n",
    "`dir()`\n",
    "\n",
    "lists all the attributes belonging to a specific object"
   ]
  },
  {
   "cell_type": "code",
   "execution_count": 14,
   "metadata": {},
   "outputs": [
    {
     "data": {
      "text/plain": [
       "['__add__',\n",
       " '__class__',\n",
       " '__contains__',\n",
       " '__delattr__',\n",
       " '__dir__',\n",
       " '__doc__',\n",
       " '__eq__',\n",
       " '__format__',\n",
       " '__ge__',\n",
       " '__getattribute__',\n",
       " '__getitem__',\n",
       " '__getnewargs__',\n",
       " '__getstate__',\n",
       " '__gt__',\n",
       " '__hash__',\n",
       " '__init__',\n",
       " '__init_subclass__',\n",
       " '__iter__',\n",
       " '__le__',\n",
       " '__len__',\n",
       " '__lt__',\n",
       " '__mod__',\n",
       " '__mul__',\n",
       " '__ne__',\n",
       " '__new__',\n",
       " '__reduce__',\n",
       " '__reduce_ex__',\n",
       " '__repr__',\n",
       " '__rmod__',\n",
       " '__rmul__',\n",
       " '__setattr__',\n",
       " '__sizeof__',\n",
       " '__str__',\n",
       " '__subclasshook__',\n",
       " 'capitalize',\n",
       " 'casefold',\n",
       " 'center',\n",
       " 'count',\n",
       " 'encode',\n",
       " 'endswith',\n",
       " 'expandtabs',\n",
       " 'find',\n",
       " 'format',\n",
       " 'format_map',\n",
       " 'index',\n",
       " 'isalnum',\n",
       " 'isalpha',\n",
       " 'isascii',\n",
       " 'isdecimal',\n",
       " 'isdigit',\n",
       " 'isidentifier',\n",
       " 'islower',\n",
       " 'isnumeric',\n",
       " 'isprintable',\n",
       " 'isspace',\n",
       " 'istitle',\n",
       " 'isupper',\n",
       " 'join',\n",
       " 'ljust',\n",
       " 'lower',\n",
       " 'lstrip',\n",
       " 'maketrans',\n",
       " 'partition',\n",
       " 'removeprefix',\n",
       " 'removesuffix',\n",
       " 'replace',\n",
       " 'rfind',\n",
       " 'rindex',\n",
       " 'rjust',\n",
       " 'rpartition',\n",
       " 'rsplit',\n",
       " 'rstrip',\n",
       " 'split',\n",
       " 'splitlines',\n",
       " 'startswith',\n",
       " 'strip',\n",
       " 'swapcase',\n",
       " 'title',\n",
       " 'translate',\n",
       " 'upper',\n",
       " 'zfill']"
      ]
     },
     "execution_count": 14,
     "metadata": {},
     "output_type": "execute_result"
    }
   ],
   "source": [
    "string = \"Strings\"\n",
    "dir(string)"
   ]
  },
  {
   "cell_type": "markdown",
   "metadata": {},
   "source": [
    "## range()\n",
    "\n",
    "`range()`\n",
    "\n",
    "This function can generate a sequence of number from a given point to a given point, incrementing at a defined rate.\n",
    "it requires atleast one argument and if an end limit argument is provided, it only considers till n-1."
   ]
  },
  {
   "cell_type": "markdown",
   "metadata": {},
   "source": [
    "syntax:\n",
    "```\n",
    "range( {start value}, {stop value}, {increment value for every iteration} )\n",
    "```"
   ]
  },
  {
   "cell_type": "code",
   "execution_count": 15,
   "metadata": {},
   "outputs": [
    {
     "data": {
      "text/plain": [
       "range(0, 5)"
      ]
     },
     "execution_count": 15,
     "metadata": {},
     "output_type": "execute_result"
    }
   ],
   "source": [
    "range(0,5,1)\n",
    "#0,1,2,3,4"
   ]
  },
  {
   "cell_type": "markdown",
   "metadata": {},
   "source": [
    "__a reverse sequence may be achieved by__\n",
    "```\n",
    "range( {stop value}, {start value}, {negative equivalent increment value for every iteration} )\n",
    "```\n",
    "\n",
    "\n",
    "**stop value is devalued by 1**"
   ]
  },
  {
   "cell_type": "code",
   "execution_count": 16,
   "metadata": {},
   "outputs": [
    {
     "name": "stdout",
     "output_type": "stream",
     "text": [
      "5 4 3 2 1 "
     ]
    }
   ],
   "source": [
    "for i in range(5,0,-1):\n",
    "    print(i,end=\" \")"
   ]
  },
  {
   "cell_type": "markdown",
   "metadata": {},
   "source": [
    "## hash()\n",
    "\n",
    "This `hash()` function return the hash value of a passed along object \n",
    "\n",
    "for example,"
   ]
  },
  {
   "cell_type": "code",
   "execution_count": 17,
   "metadata": {},
   "outputs": [
    {
     "data": {
      "text/plain": [
       "-8812597367071664706"
      ]
     },
     "execution_count": 17,
     "metadata": {},
     "output_type": "execute_result"
    }
   ],
   "source": [
    "hash(string)"
   ]
  },
  {
   "cell_type": "markdown",
   "metadata": {},
   "source": [
    "It should be noted that, [mutable](./Definitions.ipynb#mutable) objects are NOT hashable and [immutable](./Definitions.ipynb#immutable) objects ARE hashable.\n",
    "\n",
    "A hash value is like a unique ID created for a piece of data.<br>It's a number created by running data (like a name or file) through a special formula called a hash function.\n",
    "\n",
    "Now the key fact is that, it is deterministic because **the same input always produces the same hash value**.\n",
    "\n",
    "And at the same time the hash value has a fixed size, regardless of the input size.\n",
    "\n",
    "Now generating a hash value is called `hashing`\n",
    "This can be done by using `hash()`\n",
    "\n",
    "In python,\n",
    "The `hash()` function computes the **hash value** for immutable objects like strings, integers, tuples.\n",
    "\n",
    "---\n",
    "| Data Type   | isHashable |\n",
    "| :---------- | :--------: |\n",
    "| int         | ✅         |\n",
    "| float       | ✅         |\n",
    "| str         | ✅         |\n",
    "| list        | ❌         |\n",
    "| tuple       | ✅         |\n",
    "| set         | ❌         |\n",
    "| dict        | ❌         |\n"
   ]
  },
  {
   "cell_type": "markdown",
   "metadata": {},
   "source": []
  },
  {
   "cell_type": "markdown",
   "metadata": {},
   "source": [
    "## id()\n",
    "\n",
    "The `id()` function returns the unique memory address (identity) of an object, since every object in Python has a unique id (memory address).\n",
    "\n",
    "__note__ : Python caches small integers and strings, so their id() might stay the same.\n",
    "for example,\n"
   ]
  },
  {
   "cell_type": "code",
   "execution_count": 18,
   "metadata": {},
   "outputs": [
    {
     "name": "stdout",
     "output_type": "stream",
     "text": [
      "True\n"
     ]
    }
   ],
   "source": [
    "a = 100\n",
    "b = 100\n",
    "print(id(a) == id(b))  # ✅ True (same memory for small integers)\n"
   ]
  },
  {
   "cell_type": "markdown",
   "metadata": {},
   "source": [
    "## len()\n",
    "\n",
    "The `len()` function returns the number of elements in an iterable e.g., list, tuple, string, dictionary, set.\n",
    "\n",
    "for example:"
   ]
  },
  {
   "cell_type": "code",
   "execution_count": 21,
   "metadata": {},
   "outputs": [
    {
     "name": "stdout",
     "output_type": "stream",
     "text": [
      "5 String Length\n",
      "4 List Length\n",
      "3 Tuple Length\n",
      "4 Set Length\n",
      "2 dictionary Length\n"
     ]
    }
   ],
   "source": [
    "print(len(\"hello\"),\"String Length\")  # String\n",
    "print(len([1, 2, 3, 4]),\"List Length\")  # List\n",
    "print(len((10, 20, 30)),\"Tuple Length\")  # Tuple\n",
    "print(len({1, 2, 3, 4}),\"Set Length\")  # Set\n",
    "print(len({\"a\": 1, \"b\": 2}),\"dictionary Length\")  # Dictionary (counts keys)\n"
   ]
  },
  {
   "cell_type": "markdown",
   "metadata": {},
   "source": []
  }
 ],
 "metadata": {
  "kernelspec": {
   "display_name": "Python 3",
   "language": "python",
   "name": "python3"
  },
  "language_info": {
   "codemirror_mode": {
    "name": "ipython",
    "version": 3
   },
   "file_extension": ".py",
   "mimetype": "text/x-python",
   "name": "python",
   "nbconvert_exporter": "python",
   "pygments_lexer": "ipython3",
   "version": "3.12.1"
  }
 },
 "nbformat": 4,
 "nbformat_minor": 2
}

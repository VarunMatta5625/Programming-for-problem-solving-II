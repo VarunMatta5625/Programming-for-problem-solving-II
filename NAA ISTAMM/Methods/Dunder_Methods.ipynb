{
 "cells": [
  {
   "cell_type": "markdown",
   "metadata": {},
   "source": [
    "# Dunder Methods \n",
    "Dunder methods (short for Double Underscore Methods) are special built-in methods in Python that start and end with double underscores (__method__). \n",
    "\n",
    "- They allow us to customize how objects behave in different operations.\n",
    "\n",
    "- You don’t call them directly – Python calls them automatically when you use certain operations"
   ]
  },
  {
   "cell_type": "markdown",
   "metadata": {},
   "source": []
  }
 ],
 "metadata": {
  "language_info": {
   "name": "python"
  }
 },
 "nbformat": 4,
 "nbformat_minor": 2
}

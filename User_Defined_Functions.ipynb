{
 "cells": [
  {
   "cell_type": "markdown",
   "metadata": {},
   "source": [
    "# Table of Contents\n",
    "\n",
    "1. [DRY](#dry)\n",
    "2. [Difference Between Parameters & Arguments](#difference-between-aprameters-&-arguments)\n",
    "   - [Positional Arguments](#positional-arguments)\n",
    "   - [Keyword Arguments](#keyword-arguments)\n",
    "   - [Default Arguments](#default-arguments)\n",
    "3. [Types of Arguments](#types-of-arguments)\n",
    "4. [In place Methods](#in-place-methods)"
   ]
  },
  {
   "cell_type": "markdown",
   "metadata": {},
   "source": [
    "## DRY\n",
    "`DRY`  - Don't Repeat Yourself"
   ]
  },
  {
   "cell_type": "code",
   "execution_count": 8,
   "metadata": {},
   "outputs": [],
   "source": [
    "#def function_name(parameters / formal arguments):\n",
    "#    \"\"\"docstring\"\"\"\n",
    "#    statement(s)\n"
   ]
  },
  {
   "cell_type": "markdown",
   "metadata": {},
   "source": [
    "## Difference Between Parameters & Arguments\n",
    "\n",
    "__Parameters__ are variables defined in a function's signature as _placeholders_ for the values it will operate on, while __arguments__ are the actual values passed to the function when called.\n"
   ]
  },
  {
   "cell_type": "markdown",
   "metadata": {},
   "source": [
    "---"
   ]
  },
  {
   "cell_type": "markdown",
   "metadata": {},
   "source": [
    "## Types of Arguments"
   ]
  },
  {
   "cell_type": "markdown",
   "metadata": {},
   "source": [
    "### Positional Arguments \n",
    "- __They need to be passed to the function in the exact order that the parameters were defined.__"
   ]
  },
  {
   "cell_type": "code",
   "execution_count": 1,
   "metadata": {},
   "outputs": [
    {
     "name": "stdout",
     "output_type": "stream",
     "text": [
      "Name: Alice, Age: 30\n"
     ]
    }
   ],
   "source": [
    "def print_info(name, age):\n",
    "    print(f\"Name: {name}, Age: {age}\")\n",
    "\n",
    "print_info('Alice', 30)  # Positional arguments\n",
    "    "
   ]
  },
  {
   "cell_type": "markdown",
   "metadata": {},
   "source": [
    "### __Keyword Arguments__ \n",
    "- __Arguments that are passed to a function by explicitly specifying the name of the parameter, regardless of their order in the function definition.__"
   ]
  },
  {
   "cell_type": "code",
   "execution_count": 3,
   "metadata": {},
   "outputs": [
    {
     "name": "stdout",
     "output_type": "stream",
     "text": [
      "Name: Alice, Age: 30\n"
     ]
    }
   ],
   "source": [
    "def print_info(name, age):\n",
    "    print(f\"Name: {name}, Age: {age}\")\n",
    "\n",
    "print_info(age=30, name='Alice')  # Keyword arguments"
   ]
  },
  {
   "cell_type": "markdown",
   "metadata": {},
   "source": [
    "#### Placing an asterisk `*` in the function parameters indicates that the following parameters must be passed as keyword arguments. This is useful for clarity and to ensure that certain arguments are always provided with explicit identifiers\n",
    "\n",
    "\n"
   ]
  },
  {
   "cell_type": "code",
   "execution_count": 4,
   "metadata": {},
   "outputs": [
    {
     "name": "stdout",
     "output_type": "stream",
     "text": [
      "1 2 3\n"
     ]
    }
   ],
   "source": [
    "def function(a, *, b, c):\n",
    "    print(a, b, c)\n",
    "\n",
    "function(1, b=2, c=3)  # 'b' and 'c' must be keyword arguments"
   ]
  },
  {
   "cell_type": "markdown",
   "metadata": {},
   "source": [
    "### Default Arguments\n",
    "- __Parameters that are given default values during function definition. If no argument is passed, the default value is used.__\n",
    "\n",
    "\n",
    " <span style=\"color:yellow\">After positional arguments only should we write keyword arguments</span>"
   ]
  },
  {
   "cell_type": "code",
   "execution_count": 5,
   "metadata": {},
   "outputs": [
    {
     "name": "stdout",
     "output_type": "stream",
     "text": [
      "Name: Bob, Age: 35\n",
      "Name: Bob, Age: 28\n"
     ]
    }
   ],
   "source": [
    "def print_info(name, age=35):\n",
    "    print(f\"Name: {name}, Age: {age}\")\n",
    "\n",
    "print_info(name='Bob')  # Uses default age\n",
    "print_info('Bob', 28)   # Overrides the default age"
   ]
  },
  {
   "cell_type": "markdown",
   "metadata": {},
   "source": [
    "## In place Methods\n",
    "\n",
    "What are In-place methods. ????"
   ]
  }
 ],
 "metadata": {
  "kernelspec": {
   "display_name": "Python 3",
   "language": "python",
   "name": "python3"
  },
  "language_info": {
   "codemirror_mode": {
    "name": "ipython",
    "version": 3
   },
   "file_extension": ".py",
   "mimetype": "text/x-python",
   "name": "python",
   "nbconvert_exporter": "python",
   "pygments_lexer": "ipython3",
   "version": "3.12.1"
  }
 },
 "nbformat": 4,
 "nbformat_minor": 2
}

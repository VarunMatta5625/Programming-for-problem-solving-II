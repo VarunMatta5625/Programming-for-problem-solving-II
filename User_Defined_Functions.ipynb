{
 "cells": [
  {
   "cell_type": "markdown",
   "metadata": {},
   "source": [
    "# Table of Contents\n",
    "\n",
    "1. [DRY](#dry)\n",
    "2. [Difference Between Parameters & Arguments](#difference-between-aprameters-&-arguments)\n",
    "3. [Types of Arguments](#types-of-arguments)\n",
    "4. [In place Methods](#in-place-methods)"
   ]
  },
  {
   "cell_type": "markdown",
   "metadata": {},
   "source": [
    "## DRY\n",
    "\n",
    "`DRY`  - Don't Repeat Yourself\n",
    "\n",
    "```\n",
    "def function_name(parameters / formal arguments):\n",
    "    \"\"\"docstring\"\"\"\n",
    "    statement(s)\n",
    "```\n"
   ]
  },
  {
   "cell_type": "markdown",
   "metadata": {},
   "source": [
    "## Difference Between Parameters & Arguments\n",
    "\n",
    "__Parameters__ are variables defined in a function's signature as _placeholders_ for the values it will operate on, while __arguments__ are the actual values passed to the function when called.\n"
   ]
  },
  {
   "cell_type": "markdown",
   "metadata": {},
   "source": [
    "---"
   ]
  },
  {
   "cell_type": "markdown",
   "metadata": {},
   "source": [
    "## Types of Arguments\n",
    "1) __Positional Arguments__ -  They need to be passed to the function in the exact order that the parameters were defined.\n",
    "   ```\n",
    "   def print_info(name, age):\n",
    "        print(f\"Name: {name}, Age: {age}\")\n",
    "\n",
    "    print_info('Alice', 30)  # Positional arguments\n",
    "    ```\n",
    "2) __Keyword Arguments__ - Arguments that are passed to a function by explicitly specifying the name of the parameter, regardless of their order in the function definition.\n",
    "   ```\n",
    "    def print_info(name, age):\n",
    "        print(f\"Name: {name}, Age: {age}\")\n",
    "\n",
    "    print_info(age=30, name='Alice')  # Keyword arguments\n",
    "    ```\n",
    "    1) Placing an asterisk `*` in the function parameters indicates that the following parameters must be passed as keyword arguments. This is useful for clarity and to ensure that certain arguments are always provided with explicit identifiers\n",
    "        ```\n",
    "        def function(a, *, b, c):\n",
    "            print(a, b, c)\n",
    "\n",
    "        function(1, b=2, c=3)  # 'b' and 'c' must be keyword arguments\n",
    "        ```\n",
    "\n",
    "3) __Default Arguments__ - Parameters that are given default values during function definition. If no argument is passed, the default value is used.\n",
    "   ```\n",
    "   def print_info(name, age=35):\n",
    "        print(f\"Name: {name}, Age: {age}\")\n",
    "\n",
    "    print_info(name='Bob')  # Uses default age\n",
    "    print_info('Bob', 28)   # Overrides the default age\n",
    "    ```\n",
    "\n",
    "__After positional arguments only should we write keyword arguments__\n",
    "\n",
    "\n"
   ]
  },
  {
   "cell_type": "markdown",
   "metadata": {},
   "source": [
    "## In place Methods\n",
    "\n",
    "What are In-place methods. ????"
   ]
  }
 ],
 "metadata": {
  "kernelspec": {
   "display_name": "Python 3",
   "language": "python",
   "name": "python3"
  },
  "language_info": {
   "codemirror_mode": {
    "name": "ipython",
    "version": 3
   },
   "file_extension": ".py",
   "mimetype": "text/x-python",
   "name": "python",
   "nbconvert_exporter": "python",
   "pygments_lexer": "ipython3",
   "version": "3.12.1"
  }
 },
 "nbformat": 4,
 "nbformat_minor": 2
}

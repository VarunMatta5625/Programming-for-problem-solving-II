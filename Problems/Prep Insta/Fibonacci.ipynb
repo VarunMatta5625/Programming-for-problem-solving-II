{
 "cells": [
  {
   "cell_type": "markdown",
   "metadata": {},
   "source": [
    "# Nth Fibonacci Term"
   ]
  },
  {
   "cell_type": "code",
   "execution_count": 7,
   "metadata": {},
   "outputs": [],
   "source": [
    "def fibonacci(a):\n",
    "    if (a<=0):\n",
    "        return \"Error\"\n",
    "    \n",
    "    elif (a == 1):\n",
    "        return 0\n",
    "    elif (a == 2):\n",
    "        return 1\n",
    "    else:\n",
    "        return  fibonacci(a-1) + fibonacci(a-2)"
   ]
  },
  {
   "cell_type": "code",
   "execution_count": null,
   "metadata": {},
   "outputs": [],
   "source": [
    "fibonacci(500)\n",
    "\n",
    "\n"
   ]
  },
  {
   "cell_type": "markdown",
   "metadata": {},
   "source": [
    "# Fibonacci using a list\n"
   ]
  },
  {
   "cell_type": "code",
   "execution_count": 10,
   "metadata": {},
   "outputs": [
    {
     "name": "stdout",
     "output_type": "stream",
     "text": [
      "[0, 1, 1, 2, 3, 5, 8, 13, 21, 34]\n",
      "sum = 88\n"
     ]
    }
   ],
   "source": [
    "n = int(input())\n",
    "\n",
    "fibonacci_series = [0,1]\n",
    "\n",
    "def sum(fibonacci_series):\n",
    "\n",
    "    # sum of the series\n",
    "    sum = 0\n",
    "    for i in fibonacci_series:\n",
    "        sum += i\n",
    "    print(f\"{sum = }\")\n",
    "\n",
    "\n",
    "if (n<0):\n",
    "    print(\"No terms exist in the given range\")\n",
    "\n",
    "elif (n <= 2):\n",
    "    print(fibonacci_series)\n",
    "    sum()\n",
    "\n",
    "\n",
    "else:\n",
    "    for i in range(2,n):\n",
    "        fibonacci_series.append(fibonacci_series[i-2] + fibonacci_series[i-1])\n",
    "    print(fibonacci_series)\n",
    "    sum(fibonacci_series)\n",
    "\n",
    "    "
   ]
  },
  {
   "cell_type": "code",
   "execution_count": null,
   "metadata": {},
   "outputs": [],
   "source": []
  }
 ],
 "metadata": {
  "kernelspec": {
   "display_name": "Python 3",
   "language": "python",
   "name": "python3"
  },
  "language_info": {
   "codemirror_mode": {
    "name": "ipython",
    "version": 3
   },
   "file_extension": ".py",
   "mimetype": "text/x-python",
   "name": "python",
   "nbconvert_exporter": "python",
   "pygments_lexer": "ipython3",
   "version": "3.12.1"
  }
 },
 "nbformat": 4,
 "nbformat_minor": 2
}

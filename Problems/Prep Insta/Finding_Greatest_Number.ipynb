{
 "cells": [
  {
   "cell_type": "code",
   "execution_count": 1,
   "metadata": {},
   "outputs": [],
   "source": [
    "def greatest_checker(a,b,c):\n",
    "    if   (a>=b and a>=c):\n",
    "        return a\n",
    "    elif (b>=a and b>=c):\n",
    "        return b\n",
    "    elif (c>=a and c>=b):\n",
    "        return c\n",
    "    "
   ]
  },
  {
   "cell_type": "code",
   "execution_count": 4,
   "metadata": {},
   "outputs": [
    {
     "data": {
      "text/plain": [
       "12345"
      ]
     },
     "execution_count": 4,
     "metadata": {},
     "output_type": "execute_result"
    }
   ],
   "source": [
    "p = int(input(\"Enter a number\"))\n",
    "q = int(input(\"Enter another number\"))\n",
    "r= int(input(\"Enter the last number\"))\n",
    "\n",
    "greatest_checker(p,q,r)"
   ]
  },
  {
   "cell_type": "markdown",
   "metadata": {},
   "source": [
    "### Similarly the greatest number in a given range can be found out below"
   ]
  },
  {
   "cell_type": "code",
   "execution_count": 4,
   "metadata": {},
   "outputs": [],
   "source": [
    "def Greatest_Checker(a):\n",
    "    largest = 0 #default to 0\n",
    "    for i in range(a):\n",
    "        k = int(input(\"Enter the number for consideration\"))\n",
    "        if(k>largest):\n",
    "            largest = k\n",
    "    \n",
    "    return largest\n",
    "        \n",
    "        "
   ]
  },
  {
   "cell_type": "code",
   "execution_count": 5,
   "metadata": {},
   "outputs": [
    {
     "data": {
      "text/plain": [
       "5"
      ]
     },
     "execution_count": 5,
     "metadata": {},
     "output_type": "execute_result"
    }
   ],
   "source": [
    "n = int(input(\"Enter the number of values are up for consideration\"))\n",
    "Greatest_Checker(n)"
   ]
  },
  {
   "cell_type": "code",
   "execution_count": null,
   "metadata": {},
   "outputs": [],
   "source": []
  }
 ],
 "metadata": {
  "kernelspec": {
   "display_name": "Python 3",
   "language": "python",
   "name": "python3"
  },
  "language_info": {
   "codemirror_mode": {
    "name": "ipython",
    "version": 3
   },
   "file_extension": ".py",
   "mimetype": "text/x-python",
   "name": "python",
   "nbconvert_exporter": "python",
   "pygments_lexer": "ipython3",
   "version": "3.12.1"
  }
 },
 "nbformat": 4,
 "nbformat_minor": 2
}

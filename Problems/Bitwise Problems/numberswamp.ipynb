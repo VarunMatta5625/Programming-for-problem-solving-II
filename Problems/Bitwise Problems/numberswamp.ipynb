{
 "cells": [
  {
   "cell_type": "code",
   "execution_count": 9,
   "metadata": {},
   "outputs": [
    {
     "name": "stdout",
     "output_type": "stream",
     "text": [
      "The number a is 3 and b is 6\n"
     ]
    }
   ],
   "source": [
    "a = 3 \n",
    "b= 6\n",
    "print(f'The number a is {a} and b is {b}')\n",
    "\n",
    "def numberswap(a,b):\n",
    "    a = a^b\n",
    "    b = a^b\n",
    "    a = a^b\n",
    "    return print(f'The number a is {a} and b is {b}')\n",
    "\n",
    "\n"
   ]
  },
  {
   "cell_type": "code",
   "execution_count": 11,
   "metadata": {},
   "outputs": [
    {
     "name": "stdout",
     "output_type": "stream",
     "text": [
      "The number a is 6 and b is 3\n"
     ]
    }
   ],
   "source": [
    "numberswap(a,b)"
   ]
  },
  {
   "cell_type": "code",
   "execution_count": null,
   "metadata": {},
   "outputs": [],
   "source": []
  }
 ],
 "metadata": {
  "kernelspec": {
   "display_name": "Python 3",
   "language": "python",
   "name": "python3"
  },
  "language_info": {
   "codemirror_mode": {
    "name": "ipython",
    "version": 3
   },
   "file_extension": ".py",
   "mimetype": "text/x-python",
   "name": "python",
   "nbconvert_exporter": "python",
   "pygments_lexer": "ipython3",
   "version": "3.12.1"
  }
 },
 "nbformat": 4,
 "nbformat_minor": 2
}

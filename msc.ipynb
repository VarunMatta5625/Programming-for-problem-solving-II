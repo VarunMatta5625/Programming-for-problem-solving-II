{
 "cells": [
  {
   "cell_type": "markdown",
   "metadata": {},
   "source": [
    "\n",
    "\n",
    "Data inside a variable in stored as objects, and when two variables have same data (small data) ,they will be connected to the same object\n",
    "\n",
    "Unary operators don't exist in python (why?)\n",
    "\n",
    "\n",
    "- one-liner code, if and else's can be one-liners\n",
    "- `slicing` in python\n",
    "- `_` can be used as a dummy variable in a loop (look more into this)\n",
    "- Python programmers are commonly called Python developers or \n",
    "  Pythonistas.\n",
    "- functional programming & procedural programming and OOPS\n",
    "- byte code\n",
    "- collections are iterable\n",
    "- make a table of precedence for operators."
   ]
  },
  {
   "cell_type": "markdown",
   "metadata": {},
   "source": []
  }
 ],
 "metadata": {
  "language_info": {
   "name": "python"
  }
 },
 "nbformat": 4,
 "nbformat_minor": 2
}

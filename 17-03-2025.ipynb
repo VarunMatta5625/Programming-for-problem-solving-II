{
 "cells": [
  {
   "cell_type": "markdown",
   "metadata": {},
   "source": [
    "# recursion \n"
   ]
  },
  {
   "cell_type": "markdown",
   "metadata": {},
   "source": [
    "Recursion is of 4 types:\n",
    "- direct (a --> a)\n",
    "- indirect (a --> b; b--> a)\n",
    "- tree \n",
    "- nested\n",
    "  \n",
    "This whole system of 4 types be classified as tailed and non tailed recursion"
   ]
  },
  {
   "cell_type": "markdown",
   "metadata": {},
   "source": [
    "### tree recursion "
   ]
  },
  {
   "cell_type": "code",
   "execution_count": 2,
   "metadata": {},
   "outputs": [
    {
     "name": "stdout",
     "output_type": "stream",
     "text": [
      "26\n"
     ]
    }
   ],
   "source": [
    "#to calculate sum of numbers\n",
    "def tree_sum(n):\n",
    "    if n == 0:\n",
    "        return 0\n",
    "    return tree_sum(n-1) + tree_sum(n-1) + n\n",
    "\n",
    "print(tree_sum(4))"
   ]
  },
  {
   "cell_type": "markdown",
   "metadata": {},
   "source": [
    "#### Footnotes\n",
    "\n",
    "- Dynamic programming\n",
    "- Branch and Bound\n",
    "- Back tracking\n",
    "- Divide & Conquer"
   ]
  },
  {
   "cell_type": "markdown",
   "metadata": {},
   "source": []
  }
 ],
 "metadata": {
  "kernelspec": {
   "display_name": "Python 3",
   "language": "python",
   "name": "python3"
  },
  "language_info": {
   "codemirror_mode": {
    "name": "ipython",
    "version": 3
   },
   "file_extension": ".py",
   "mimetype": "text/x-python",
   "name": "python",
   "nbconvert_exporter": "python",
   "pygments_lexer": "ipython3",
   "version": "3.12.1"
  }
 },
 "nbformat": 4,
 "nbformat_minor": 2
}
